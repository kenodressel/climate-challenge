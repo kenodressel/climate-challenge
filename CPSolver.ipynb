{
 "cells": [
  {
   "cell_type": "code",
   "execution_count": 435,
   "id": "14d32e39-b879-473b-b2d7-a2df838af8c2",
   "metadata": {},
   "outputs": [],
   "source": [
    "\"\"\"Simple solve.\"\"\"\n",
    "from ortools.sat.python import cp_model\n",
    "import numpy as np\n",
    "import matplotlib.pyplot as plt\n",
    "nrAirplanes = 4\n",
    "size = [10,10,5]\n",
    "time = 20\n",
    "start = [[0,0,0],[5,3,2],[1,1,4],[4,2,1]]#,[2,2,8],[8,9,2]]\n",
    "destination = [[0,9,1],[9,9,2],[7,5,3],[3,6,4]]#,[1,2,5],[4,3,6]]\n",
    "\n",
    "\n",
    "class CPSolver(object):\n",
    "    def __init__(self,nrAirplanes,size,time,start,destination):\n",
    "        self.nrAirplanes = nrAirplanes\n",
    "        self.size_x,self.size_y,self.size_z = size\n",
    "        self.time = time\n",
    "        self.destination = destination\n",
    "        self.model = cp_model.CpModel()\n",
    "        self.createMap()\n",
    "        self.start = start\n",
    "    \n",
    "    def createMap(self):\n",
    "        T = []\n",
    "        for t in range(self.time):\n",
    "            A = [] \n",
    "            for a in range(self.nrAirplanes):\n",
    "                X = []\n",
    "                for x in range(self.size_x):\n",
    "                    Y = []\n",
    "                    for y in range(self.size_y):\n",
    "                        Z = []\n",
    "                        for z in range(self.size_z):\n",
    "                            Z.append(self.model.NewIntVar(0, 1, 't%ia%ix%iy%iz%i' %(t,a,x,y,z)))\n",
    "                        Y.append(Z)\n",
    "                    X.append(Y)\n",
    "                A.append(X)\n",
    "            T.append(A)\n",
    "        self.qbits = T\n",
    "    \n",
    "    def possibleTrajectory(self):\n",
    "        for t in range(self.time-1):\n",
    "            for a in range(self.nrAirplanes):\n",
    "                for x in range(self.size_x):\n",
    "                    for y in range(self.size_y):\n",
    "                        for z in range(self.size_z):\n",
    "                            if [x,y,z] != self.destination[a]:\n",
    "                                    self.model.Add(self.qbits[t+1][a][min(self.size_x-1,x+1)][y][z]\n",
    "                                    + self.qbits[t+1][a][max(0,x-1)][y][z] \n",
    "                                    + self.qbits[t+1][a][x][min(self.size_y-1,y+1)][z]\n",
    "                                    + self.qbits[t+1][a][x][max(0,y-1)][z]\n",
    "                                                   \n",
    "                                    + self.qbits[t+1][a][min(self.size_x-1,x+1)][y][min(self.size_z-1,z+1)]\n",
    "                                    + self.qbits[t+1][a][max(0,x-1)][y][min(self.size_z-1,z+1)] \n",
    "                                    + self.qbits[t+1][a][x][min(self.size_y-1,y+1)][min(self.size_z-1,z+1)]\n",
    "                                    + self.qbits[t+1][a][x][max(0,y-1)][min(self.size_z-1,z+1)]\n",
    "                                                   \n",
    "                                    + self.qbits[t+1][a][min(self.size_x-1,x+1)][y][max(0,z-1)]\n",
    "                                    + self.qbits[t+1][a][max(0,x-1)][y][max(0,z-1)] \n",
    "                                    + self.qbits[t+1][a][x][min(self.size_y-1,y+1)][max(0,z-1)]\n",
    "                                    + self.qbits[t+1][a][x][max(0,y-1)][max(0,z-1)]\n",
    "                                    -self.qbits[t][a][x][y][z] >= 0)\n",
    "                            else:\n",
    "                                self.model.Add(self.qbits[t][a][x][y][z] <= self.qbits[t+1][a][x][y][z])\n",
    "                        \n",
    "    def avoidCrash(self):\n",
    "        for t in range(self.time):\n",
    "            for a1 in range(self.nrAirplanes):\n",
    "                for a2 in range(a1+1,self.nrAirplanes):\n",
    "                    for x in range(self.size_x):\n",
    "                        for y in range(self.size_y):\n",
    "                            for z in range(self.size_z):\n",
    "                                self.model.Add(self.qbits[t][a1][x][y][z] \n",
    "                                + self.qbits[t][a2][x][y][z] <= 1)\n",
    "        \n",
    "        \n",
    "    def addConstraints(self):\n",
    "        for a in range(self.nrAirplanes):\n",
    "            # Create Start\n",
    "            self.model.Add(self.qbits[0][a][self.start[a][0]][self.start[a][1]][self.start[a][2]] == 1)\n",
    "            # # Create destination\n",
    "            self.model.Add(self.qbits[self.time-1][a][self.destination[a][0]][self.destination[a][1]][self.destination[a][2]] == 1) \n",
    "            #Conserve number of planes\n",
    "            for t in range(self.time):\n",
    "                self.model.Add(self.planeConversion(self.qbits[t][a])==1)\n",
    "            self.possibleTrajectory()\n",
    "            self.avoidCrash()\n",
    "            \n",
    "    def planeConversion(self,mapbits):\n",
    "        res = 0\n",
    "        for x in mapbits:\n",
    "            for y in x:\n",
    "                for z in y:\n",
    "                    res+=z\n",
    "        return res\n",
    "    \n",
    "    def plotTrajectory(self,solver):\n",
    "        fig = plt.figure()\n",
    "        ax = fig.add_subplot(111, projection='3d')\n",
    "        for a in range(self.nrAirplanes):\n",
    "            trajectory_x = []\n",
    "            trajectory_y = []\n",
    "            trajectory_z = []\n",
    "            for t in range(self.time):\n",
    "                for z in range(self.size_z):\n",
    "                    for y in range(self.size_y):\n",
    "                        for x in range(self.size_x):\n",
    "                            if (solver.Value(self.qbits[t][a][x][y][z]) == 1):\n",
    "                                trajectory_x.append(x)\n",
    "                                trajectory_y.append(y)\n",
    "                                trajectory_z.append(z)\n",
    "        \n",
    "                                \n",
    "            ax.plot(trajectory_x, trajectory_y,trajectory_z, linestyle='-')\n",
    "            ax.scatter(*self.start[a])\n",
    "        plt.show()"
   ]
  },
  {
   "cell_type": "code",
   "execution_count": 436,
   "id": "2622c23a-e69b-46f3-bf52-a4b0e6b38c60",
   "metadata": {},
   "outputs": [],
   "source": [
    "def costFunction(qbits):\n",
    "    res = 0\n",
    "    for t in range(time):\n",
    "        for a in range(nrAirplanes):\n",
    "            for x in range(size[0]):\n",
    "                for y in range(size[1]):\n",
    "                    for z in range(size[2]):\n",
    "                        if [x,y,z] != destination[a]:\n",
    "                            res += qbits[t][a][x][y][z]\n",
    "    return res"
   ]
  },
  {
   "cell_type": "code",
   "execution_count": 437,
   "id": "2266b910-b4da-44d0-9beb-5a5548ccf2b9",
   "metadata": {},
   "outputs": [],
   "source": [
    "def reward(qbits):\n",
    "    res = 0\n",
    "    for a in range(nrAirplanes):\n",
    "        res+=qbits[time-1][a][destination[a][0]][destination[a][1]][destination[a][2]]\n",
    "    return res"
   ]
  },
  {
   "cell_type": "code",
   "execution_count": 441,
   "id": "881e517b-8a70-4628-80ac-e1ac4f7eb91b",
   "metadata": {},
   "outputs": [],
   "source": [
    "%matplotlib inline"
   ]
  },
  {
   "cell_type": "code",
   "execution_count": 439,
   "id": "2ec160ac-8442-4d2b-8a61-a16dcb58e9e7",
   "metadata": {},
   "outputs": [
    {
     "name": "stdout",
     "output_type": "stream",
     "text": [
      "Adding constraints...\n",
      "Creating cost function...\n",
      "Solving...\n"
     ]
    },
    {
     "data": {
      "image/png": "[encoded data removed]",
      "text/plain": [
       "<Figure size 432x288 with 1 Axes>"
      ]
     },
     "metadata": {
      "needs_background": "light"
     },
     "output_type": "display_data"
    },
    {
     "name": "stdout",
     "output_type": "stream",
     "text": [
      "\n",
      "Statistics\n",
      "  status   : OPTIMAL\n",
      "  conflicts: 0\n",
      "  branches : 0\n",
      "  wall time: 5.712360433000001 s\n"
     ]
    }
   ],
   "source": [
    "CP = CPSolver(nrAirplanes,size,time,start,destination)\n",
    "print('Adding constraints...')\n",
    "CP.addConstraints()\n",
    "print('Creating cost function...')\n",
    "CP.model.Minimize(costFunction(CP.qbits) - 1000 * reward(CP.qbits))\n",
    "print('Solving...')\n",
    "# Creates a solver and solves the model.\n",
    "solver = cp_model.CpSolver()\n",
    "status = solver.Solve(CP.model)\n",
    "\n",
    "if status == cp_model.OPTIMAL or status == cp_model.FEASIBLE:\n",
    "    CP.plotTrajectory(solver)\n",
    "else:\n",
    "    print('No solution found.')\n",
    "\n",
    "# Statistics.\n",
    "print('\\nStatistics')\n",
    "print(f'  status   : {solver.StatusName(status)}')\n",
    "print(f'  conflicts: {solver.NumConflicts()}')\n",
    "print(f'  branches : {solver.NumBranches()}')\n",
    "print(f'  wall time: {solver.WallTime()} s')\n"
   ]
  },
  {
   "cell_type": "code",
   "execution_count": null,
   "id": "0e204e17-dbbc-4564-bef5-4cf5d8ae3440",
   "metadata": {},
   "outputs": [],
   "source": [
    "def createMap(model,time,size_x,size_y):\n",
    "    T = []\n",
    "    for t in range(time):\n",
    "        X = []\n",
    "        for x in range(size_x):\n",
    "            Y = []\n",
    "            for y in range(size_y):\n",
    "                 Y.append(model.NewIntVar(0, 1, 't%ix%iy%i' %(t,x,y)))\n",
    "            X.append(Y)\n",
    "        T.append(X)\n",
    "    return T\n",
    "            \n",
    "                     \n"
   ]
  },
  {
   "cell_type": "code",
   "execution_count": null,
   "id": "c8c477fe-3af5-4ed5-bee7-76eccf366bdc",
   "metadata": {},
   "outputs": [],
   "source": [
    "def possibleTrajectory(model,qbits):\n",
    "        for t in range(time-1):\n",
    "            for x in range(size_x):\n",
    "                for y in range(size_y):\n",
    "                    if [x,Sy] != destination:\n",
    "                        model.Add(qbits[t][x][y] == ( \n",
    "                            qbits[t+1][x][y]\n",
    "                            + qbits[t+1][min(size_x,x+1)][y] \n",
    "                            + qbits[t+1][max(0,x-1)][y] \n",
    "                            + qbits[t+1][x][min(size_y,y+1)]\n",
    "                            + qbits[t+1][x][max(0,y-1)]))\n",
    "    "
   ]
  },
  {
   "cell_type": "code",
   "execution_count": null,
   "id": "073ac982-70b5-4749-b62a-9e367a345bfd",
   "metadata": {
    "tags": []
   },
   "outputs": [],
   "source": [
    "         \n"
   ]
  },
  {
   "cell_type": "code",
   "execution_count": 24,
   "id": "5911b81a-1a23-4d18-a22c-ede9941ac78b",
   "metadata": {
    "tags": []
   },
   "outputs": [
    {
     "data": {
      "text/plain": [
       "[[[t0x0y0(0..1), t0x0y1(0..1), t0x0y2(0..1), t0x0y3(0..1)],\n",
       "  [t0x1y0(0..1), t0x1y1(0..1), t0x1y2(0..1), t0x1y3(0..1)],\n",
       "  [t0x2y0(0..1), t0x2y1(0..1), t0x2y2(0..1), t0x2y3(0..1)],\n",
       "  [t0x3y0(0..1), t0x3y1(0..1), t0x3y2(0..1), t0x3y3(0..1)]],\n",
       " [[t1x0y0(0..1), t1x0y1(0..1), t1x0y2(0..1), t1x0y3(0..1)],\n",
       "  [t1x1y0(0..1), t1x1y1(0..1), t1x1y2(0..1), t1x1y3(0..1)],\n",
       "  [t1x2y0(0..1), t1x2y1(0..1), t1x2y2(0..1), t1x2y3(0..1)],\n",
       "  [t1x3y0(0..1), t1x3y1(0..1), t1x3y2(0..1), t1x3y3(0..1)]],\n",
       " [[t2x0y0(0..1), t2x0y1(0..1), t2x0y2(0..1), t2x0y3(0..1)],\n",
       "  [t2x1y0(0..1), t2x1y1(0..1), t2x1y2(0..1), t2x1y3(0..1)],\n",
       "  [t2x2y0(0..1), t2x2y1(0..1), t2x2y2(0..1), t2x2y3(0..1)],\n",
       "  [t2x3y0(0..1), t2x3y1(0..1), t2x3y2(0..1), t2x3y3(0..1)]],\n",
       " [[t3x0y0(0..1), t3x0y1(0..1), t3x0y2(0..1), t3x0y3(0..1)],\n",
       "  [t3x1y0(0..1), t3x1y1(0..1), t3x1y2(0..1), t3x1y3(0..1)],\n",
       "  [t3x2y0(0..1), t3x2y1(0..1), t3x2y2(0..1), t3x2y3(0..1)],\n",
       "  [t3x3y0(0..1), t3x3y1(0..1), t3x3y2(0..1), t3x3y3(0..1)]]]"
      ]
     },
     "execution_count": 24,
     "metadata": {},
     "output_type": "execute_result"
    }
   ],
   "source": [
    "createMap(4,4,4)"
   ]
  },
  {
   "cell_type": "code",
   "execution_count": null,
   "id": "edac87f8-2b2d-48b2-8455-624a54466b58",
   "metadata": {},
   "outputs": [],
   "source": []
  },
  {
   "cell_type": "code",
   "execution_count": null,
   "id": "3d8865bf-1f8c-4523-8acb-7ebcf2b6b30a",
   "metadata": {},
   "outputs": [],
   "source": []
  }
 ],
 "metadata": {
  "kernelspec": {
   "display_name": "Python 3 (ipykernel)",
   "language": "python",
   "name": "python3"
  },
  "language_info": {
   "codemirror_mode": {
    "name": "ipython",
    "version": 3
   },
   "file_extension": ".py",
   "mimetype": "text/x-python",
   "name": "python",
   "nbconvert_exporter": "python",
   "pygments_lexer": "ipython3",
   "version": "3.9.10"
  }
 },
 "nbformat": 4,
 "nbformat_minor": 5
}
